{
 "cells": [
  {
   "cell_type": "code",
   "execution_count": 21,
   "metadata": {},
   "outputs": [],
   "source": [
    "evaluation_system_prompt_template = \"\"\"\n",
    "    [System]\n",
    "    Please act as an impartial judge and evaluate the quality of the response provided by an\n",
    "    AI assistant to the user question displayed below. Your evaluation should consider factors\n",
    "    such as the helpfulness, relevance, accuracy, depth, creativity, and level of detail of\n",
    "    the response. Begin your evaluation by providing a short explanation. Be as objective and concise as\n",
    "    possible using simple language. The explanation should be 2-3 bullet points that are easy to glance over. After providing your explanation, please rate the response on a scale of 1 to 5\n",
    "    by strictly following this format: \"[[explanation]], [[the response could be improved by]],  [[rating]]\", \n",
    "    for example: \"Explanation:[[explanation..]], Improvement Suggestions:[[the response could be improved by…]], Rating: [[5]]\".\n",
    "    [Question]\n",
    "    {question}\n",
    "    [The Start of Assistant’s Answer]\n",
    "    {answer}\n",
    "    [The End of Assistant’s Answer]\n",
    "\"\"\"\n",
    "\n",
    "improvement_system_prompt_template = \"\"\"\n",
    "[System]\n",
    "You are an expert in assessing AI Question Answer evaluation report. You will be given a short evaluation report of an AI response to a user question, with an\n",
    "evaluation report giving you a score the QA pair received and an explanation of why a certain score was given. \n",
    "Based on the evaluation report, you will be required to provide suggestions on some improvements that can be made to the user's question and the AI's response.\n",
    "Be as objective as possible and your suggestions should be actionable items in 2-3 bullets that can be quickly glanced over. Give your suggestions by strictly following this format: [[ question improvement suggestion ]], [[ answer improvement suggestion]].,\n",
    "for example \"Question Improvement: [[question improvement suggestion..]], Answer Improvement: [[answer improvement suggestion..]]\".\n",
    "\n",
    "[The Start of Evaluation Report]\n",
    "\n",
    "[User's Question]\n",
    "{question}\n",
    "\n",
    "[The Start of Assistant’s Answer]\n",
    "{answer}\n",
    "[The End of Assistant’s Answer]\n",
    "\n",
    "[Score]\n",
    "{score}\n",
    "\n",
    "[The Start of Explanation]\n",
    "{explanation}\n",
    "[The End of Explanation]\n",
    "\n",
    "[The End of Evaluation Report]\n",
    "\"\"\"\n",
    "\n",
    "import openai\n",
    "import os\n",
    "from dotenv import load_dotenv\n",
    "\n",
    "load_dotenv()\n",
    "openai.api_key = os.environ.get(\"OPENAI_API_KEY\")\n",
    "client = openai.Client()\n",
    "def chat_complete(prompt):\n",
    "    response = client.chat.completions.create(\n",
    "            model=\"gpt-4-1106-preview\", messages=[{\"role\": \"system\", \"content\": prompt}]\n",
    "        )\n",
    "    generated_text = response.choices[0].message.content\n",
    "    return generated_text\n",
    "\n",
    "def parse_response(response_text):\n",
    "    # Split the response into parts\n",
    "    explanation = response_text.split(\"Explanation:\")[1].split(\n",
    "        \"Improvement Suggestions:\"\n",
    "    )[0]\n",
    "    print(\"Explanation : \", explanation)\n",
    "    improvement_suggestions = response_text.split(\"Improvement Suggestions:\")[1].split(\n",
    "        \"Rating:\"\n",
    "    )[0]\n",
    "    print(\"Improvement Suggestions : \", improvement_suggestions)\n",
    "    rating = response_text.split(\"Rating:\")[1].replace(\"[[\", \"\").replace(\"]]\", \"\")\n",
    "    print(\"Rating : \", rating)\n",
    "\n",
    "    return explanation, improvement_suggestions, rating\n"
   ]
  },
  {
   "cell_type": "code",
   "execution_count": 22,
   "metadata": {},
   "outputs": [
    {
     "name": "stdout",
     "output_type": "stream",
     "text": [
      "The Napoleonic Wars were a series of major conflicts pitting the French Empire led by Emperor Napoleon I against an array of European powers formed into various coalitions. They took place between 1803 and 1815.\n",
      "\n",
      "While \"the Napoleonic Wars\" is a collective term for multiple conflicts, the term is often used to denote the period rather than a specific number of wars. The main wars and conflicts that are considered part of the Napoleonic Wars include:\n",
      "\n",
      "1. The War of the Third Coalition (1803–1806)\n",
      "2. The War of the Fourth Coalition (1806–1807)\n",
      "3. The Peninsular War (1807–1814), which overlapped with the other conflicts\n",
      "4. The War of the Fifth Coalition (1809)\n",
      "5. The French Invasion of Russia (1812)\n",
      "6. The War of the Sixth Coalition (1812–1814)\n",
      "7. The War of the Seventh Coalition, also known as the Hundred Days (1815)\n",
      "\n",
      "These major conflicts consisted of a number of separate battles, campaigns, and skirmishes and involved various alliances and re-structuring of European powers. The end of the Napoleonic Wars came with Napoleon's defeat at the Battle of Waterloo in June 1815 and his subsequent exile to the island of Saint Helena, where he died in 1821.\n"
     ]
    }
   ],
   "source": [
    "user_prompt = \"How many napoleanic wars happened?\"\n",
    "\n",
    "assisstant_response = chat_complete(user_prompt)\n",
    "print(assisstant_response)"
   ]
  },
  {
   "cell_type": "code",
   "execution_count": 23,
   "metadata": {},
   "outputs": [
    {
     "name": "stdout",
     "output_type": "stream",
     "text": [
      "Explanation :  \n",
      "- The response accurately lists the main conflicts that are historically recognized as part of the Napoleonic Wars, which reflects a nuanced understanding of the complexity of this period.\n",
      "- The answer clarifies that the Napoleonic Wars constitute an era of conflict rather than a countable number of individual wars, which addresses the user’s question in a helpful manner.\n",
      "- The response provides context and a brief summary of the conclusion of the Napoleonic Wars, which enhances the depth of the answer.\n",
      "\n",
      "\n",
      "Improvement Suggestions :  \n",
      "- The response could add more detail on why these conflicts are collectively referred to as the Napoleonic Wars, emphasizing Napoleon's central role and the underlying causes and consequences to provide a more comprehensive understanding.\n",
      "- The AI could specify that other minor conflicts and engagements occurred during this period that also falls under the umbrella of the Napoleonic Wars, offering a more exhaustive picture of the era.\n",
      "\n",
      "\n",
      "Rating :   4\n",
      "Explanation :  \n",
      "- The response accurately lists the main conflicts that are historically recognized as part of the Napoleonic Wars, which reflects a nuanced understanding of the complexity of this period.\n",
      "- The answer clarifies that the Napoleonic Wars constitute an era of conflict rather than a countable number of individual wars, which addresses the user’s question in a helpful manner.\n",
      "- The response provides context and a brief summary of the conclusion of the Napoleonic Wars, which enhances the depth of the answer.\n",
      "\n",
      "\n",
      "Improvement Suggestions :  \n",
      "- The response could add more detail on why these conflicts are collectively referred to as the Napoleonic Wars, emphasizing Napoleon's central role and the underlying causes and consequences to provide a more comprehensive understanding.\n",
      "- The AI could specify that other minor conflicts and engagements occurred during this period that also falls under the umbrella of the Napoleonic Wars, offering a more exhaustive picture of the era.\n",
      "\n",
      "\n",
      "Rating :   4\n"
     ]
    }
   ],
   "source": [
    "evaluation_system_prompt = evaluation_system_prompt_template.format(question=user_prompt, answer=assisstant_response)\n",
    "\n",
    "evaluation_response = chat_complete(evaluation_system_prompt)\n",
    "\n",
    "explanation, improvement_suggestions, rating = parse_response(evaluation_response)\n",
    "\n",
    "print(\"Explanation : \", explanation)\n",
    "print(\"Improvement Suggestions : \", improvement_suggestions)\n",
    "print(\"Rating : \", rating)"
   ]
  },
  {
   "cell_type": "code",
   "execution_count": 24,
   "metadata": {},
   "outputs": [
    {
     "name": "stdout",
     "output_type": "stream",
     "text": [
      "Question Improvement: [[ Clarify the question to directly seek a count, such as \"Could you list and count the number of major conflicts known as the Napoleonic Wars?\" ]]\n",
      "\n",
      "Answer Improvement: [[ Include a straightforward count after the introduction, before delving into the details, to directly answer the user's inquiry. For example, \"There were 7 major conflicts considered part of the Napoleonic Wars...\" ]], [[ Summarize more succinctly to maintain user engagement and ensure key information stands out. ]]\n"
     ]
    }
   ],
   "source": [
    "improvement_system_prompt = improvement_system_prompt_template.format(question=user_prompt, answer=assisstant_response, score=rating, explanation=explanation)\n",
    "\n",
    "improvement_response = chat_complete(improvement_system_prompt)\n",
    "\n",
    "print(improvement_response)\n"
   ]
  },
  {
   "cell_type": "code",
   "execution_count": 25,
   "metadata": {},
   "outputs": [
    {
     "name": "stdout",
     "output_type": "stream",
     "text": [
      "Question Improvement :    Clarify the question to directly seek a count, such as \"Could you list and count the number of major conflicts known as the Napoleonic Wars?\" \n",
      "\n",
      "\n",
      "Answer Improvement :    Include a straightforward count after the introduction, before delving into the details, to directly answer the user's inquiry. For example, \"There were 7 major conflicts considered part of the Napoleonic Wars...\" ,  Summarize more succinctly to maintain user engagement and ensure key information stands out. \n"
     ]
    }
   ],
   "source": [
    "def parse_improvement_response(response_text):\n",
    "    question_improvement = response_text.split(\"Question Improvement:\")[1].split(\n",
    "        \"Answer Improvement:\"\n",
    "    )[0].replace(\"[[\", \"\").replace(\"]]\", \"\")\n",
    "\n",
    "    print(\"Question Improvement : \", question_improvement)\n",
    "    answer_improvement = response_text.split(\"Answer Improvement:\")[1].replace(\"[[\", \"\").replace(\"]]\", \"\")\n",
    "    print(\"Answer Improvement : \", answer_improvement)\n",
    "\n",
    "    return question_improvement, answer_improvement\n",
    "\n",
    "question_improvement, answer_improvement = parse_improvement_response(improvement_response)"
   ]
  }
 ],
 "metadata": {
  "kernelspec": {
   "display_name": "venv",
   "language": "python",
   "name": "python3"
  },
  "language_info": {
   "codemirror_mode": {
    "name": "ipython",
    "version": 3
   },
   "file_extension": ".py",
   "mimetype": "text/x-python",
   "name": "python",
   "nbconvert_exporter": "python",
   "pygments_lexer": "ipython3",
   "version": "3.10.0"
  }
 },
 "nbformat": 4,
 "nbformat_minor": 2
}
