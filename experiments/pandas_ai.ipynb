{
 "cells": [
  {
   "cell_type": "code",
   "execution_count": 2,
   "metadata": {},
   "outputs": [
    {
     "data": {
      "text/plain": [
       "'The top 5 countries by sales are: China, United States, Japan, Germany, United Kingdom'"
      ]
     },
     "execution_count": 2,
     "metadata": {},
     "output_type": "execute_result"
    }
   ],
   "source": [
    "import pandas as pd\n",
    "from pandasai import SmartDataframe\n",
    "\n",
    "# Sample DataFrame\n",
    "sales_by_country = pd.DataFrame({\n",
    "    \"country\": [\"United States\", \"United Kingdom\", \"France\", \"Germany\", \"Italy\", \"Spain\", \"Canada\", \"Australia\", \"Japan\", \"China\"],\n",
    "    \"sales\": [5000, 3200, 2900, 4100, 2300, 2100, 2500, 2600, 4500, 7000]\n",
    "})\n",
    "\n",
    "# Instantiate a LLM\n",
    "from pandasai.llm import OpenAI\n",
    "from dotenv import load_dotenv\n",
    "import os\n",
    "load_dotenv()\n",
    "llm = OpenAI(api_token=os.getenv(\"OPENAI_API_KEY\"))\n",
    "\n",
    "# df = SmartDataframe(sales_by_country, config={\"llm\": llm})\n",
    "# df.chat('Which are the top 5 countries by sales?')"
   ]
  },
  {
   "cell_type": "code",
   "execution_count": 11,
   "metadata": {},
   "outputs": [
    {
     "data": {
      "text/plain": [
       "['\\n- The response correctly defines theranostics as a field of medicine that merges diagnostic and therapeutic methods for personalized and precise treatment.\\n- It accurately explains that diagnostic techniques such as imaging, molecular profiling, and genetic testing are used to identify specific molecular targets or biomarkers, which guide the administration of targeted therapies.\\n- The answer provides an overview of how theranostics achieves its goal of tailored treatment, including the usage of targeted therapies that interact with identified biomarkers.\\n\\n',\n",
       " \"\\n- The assistant's response is relevant, structured, and covers a wide range of controversies in an objective manner.\\n- The information provided in the answer reflects the context given, such as regulatory issues, treatment of drivers, and data privacy concerns.\\n- The summary is comprehensive, mentioning key points like safety concerns, regulatory battles, driver treatment, surge pricing, data privacy, and corporate culture issues, which accurately align with the context's details.\\n\\n\",\n",
       " \"\\n- The AI's response lists key measures for pandemic prevention that are relevant and generally align with the context provided, including early detection, public health education, vaccination programs, quarantine and isolation, travel restrictions, healthcare infrastructure, and more.\\n- The AI provides a well-structured and comprehensive answer covering a range of strategies that can be employed to prevent pandemics, demonstrating accuracy and depth.\\n- The answer is neutral and factual, providing an informative overview without apparent errors or biases, meeting the criteria for an objective response on the topic of pandemic prevention.\\n\\n\\n\",\n",
       " \"\\n- The AI assistant's response contains a clear and accurate answer to the user's question regarding the main science objectives of the JUICE orbiter and the moons it will study.\\n- The response breaks down the objectives specifically for Ganymede, Europa, and Callisto, providing individual explanations for the types of studies to be conducted on each moon.\\n- The information aligns well with the supplied context, ensuring relevance and accuracy.\\n\\n\"]"
      ]
     },
     "execution_count": 11,
     "metadata": {},
     "output_type": "execute_result"
    }
   ],
   "source": [
    "df = pd.read_excel('../datasets/ungrounded.xlsx', header=None, names=['id', 'questions', 'answer', 'score', 'justification'])\n",
    "df = SmartDataframe(df, config={\"llm\": llm})\n",
    "df.chat(\"Give me the justification for the scores with 5\")"
   ]
  }
 ],
 "metadata": {
  "kernelspec": {
   "display_name": "venv",
   "language": "python",
   "name": "python3"
  },
  "language_info": {
   "codemirror_mode": {
    "name": "ipython",
    "version": 3
   },
   "file_extension": ".py",
   "mimetype": "text/x-python",
   "name": "python",
   "nbconvert_exporter": "python",
   "pygments_lexer": "ipython3",
   "version": "3.10.0"
  }
 },
 "nbformat": 4,
 "nbformat_minor": 2
}
