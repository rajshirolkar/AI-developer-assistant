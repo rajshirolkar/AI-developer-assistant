{
 "cells": [
  {
   "cell_type": "code",
   "execution_count": 51,
   "id": "initial_id",
   "metadata": {
    "collapsed": true,
    "ExecuteTime": {
     "end_time": "2024-02-05T02:44:38.355665Z",
     "start_time": "2024-02-05T02:44:38.350932Z"
    }
   },
   "outputs": [],
   "source": [
    "# from evaluation_utils.eval_copilot.copilot_utils import create_message, run_chat_completions\n",
    "# \n",
    "# msg = create_message(\"user\",\"What is chunking in RAG?\")\n",
    "# run_chat_completions([msg])"
   ]
  },
  {
   "cell_type": "code",
   "outputs": [],
   "source": [
    "relevance_system_prompt = \"\"\"\n",
    "You are an AI assistant. You will be given the definition of an evaluation metric for assessing the quality of an answer in a question-answering task. Your job is to compute an accurate evaluation score using the provided evaluation metric.\n",
    "\"\"\"\n",
    "\n",
    "# relevance_user_instructions = \"\"\"\n",
    "# Relevance measures how well the answer addresses the main aspects of the question, based on the context. Consider whether all and only the important aspects are contained in the answer when evaluating relevance. Given the context and question, score the relevance of the answer between one to five stars using the following rating scale:\n",
    "# One star: the answer completely lacks relevance\n",
    "# Two stars: the answer mostly lacks relevance\n",
    "# Three stars: the answer is partially relevant\n",
    "# Four stars: the answer is mostly relevant\n",
    "# Five stars: the answer has perfect relevance\n",
    "# \n",
    "# This rating value should always be an integer between 1 and 5. So the rating produced should be 1 or 2 or 3 or 4 or 5.\n",
    "# \"\"\"\n",
    "\n",
    "relevance_user_instructions = \"\"\"\n",
    "Relevance measures how well the answer addresses the main aspects of the question, based on the context. Consider whether all and only the important aspects are contained in the answer when evaluating relevance. Given the context and question, score the relevance of the answer using the following Likert scale:\n",
    "- \"Very Bad\": the answer completely lacks relevance\n",
    "- \"Bad\": the answer mostly lacks relevance\n",
    "- \"Average\": the answer is partially relevant\n",
    "- \"Good\": the answer is mostly relevant\n",
    "- \"Very Good\": the answer has perfect relevance\n",
    "\n",
    "This rating should reflect the degree of relevance. Choose from \"Very Bad\", \"Bad\", \"Average\", \"Good\", or \"Very Good\" to represent the relevance score.\n",
    "\n",
    "\"\"\"\n",
    "\n",
    "relevance_few_shot_examples = [\n",
    "    {\n",
    "        \"context\": \"Marie Curie was a Polish-born physicist and chemist who pioneered research on radioactivity and was the first woman to win a Nobel Prize.\",\n",
    "        \"question\": \"What field did Marie Curie excel in?\",\n",
    "        \"answer\": \"Marie Curie was a renowned painter who focused mainly on impressionist styles and techniques.\",\n",
    "        \"stars\": \"Very Bad\",\n",
    "        \"justification\": \"The answer is completely irrelevant as it incorrectly identifies Marie Curie as a painter, whereas she was actually a physicist and chemist. The answer fails to address the main aspect of the question, which is her field of expertise.\",\n",
    "        \"improvement_suggestion\": \"Correct the answer to reflect Marie Curie's true field of expertise. An improved answer would state that Marie Curie was a notable physicist and chemist known for her research on radioactivity.\"\n",
    "    },\n",
    "    {\n",
    "        \"context\": \"The Beatles were an English rock band formed in Liverpool in 1960, and they are widely regarded as the most influential music band in history.\",\n",
    "        \"question\": \"Where were The Beatles formed?\",\n",
    "        \"answer\": \"The band The Beatles began their journey in London, England, and they changed the history of music.\",\n",
    "        \"stars\": \"Bad\",\n",
    "        \"justification\": \"The answer mostly lacks relevance as it provides incorrect information about the formation location of The Beatles. The question explicitly asks for the place of formation, and the answer incorrectly states London instead of Liverpool.\",\n",
    "        \"improvement_suggestion\": \"Correct the geographical error in the answer. An improved answer would correctly state that The Beatles were formed in Liverpool, England.\"\n",
    "    },\n",
    "    {\n",
    "        \"context\": \"The recent Mars rover, Perseverance, was launched in 2020 with the main goal of searching for signs of ancient life on Mars. The rover also carries an experiment called MOXIE, which aims to generate oxygen from the Martian atmosphere.\",\n",
    "        \"question\": \"What are the main goals of Perseverance Mars rover mission?\",\n",
    "        \"answer\": \"The Perseverance Mars rover mission focuses on searching for signs of ancient life on Mars.\",\n",
    "        \"stars\": \"Average\",\n",
    "        \"justification\": \"The answer is partially relevant. It correctly identifies one of the main goals of the Perseverance rover – searching for ancient life. However, it omits other key aspects like the MOXIE experiment, which is also a significant part of the mission's goals.\",\n",
    "        \"improvement_suggestion\": \"Expand the answer to include more goals of the mission. An improved answer would mention the MOXIE experiment for generating oxygen from the Martian atmosphere, along with the search for ancient life.\"\n",
    "    },\n",
    "    {\n",
    "        \"context\": \"The Mediterranean diet is a commonly recommended dietary plan that emphasizes fruits, vegetables, whole grains, legumes, lean proteins, and healthy fats. Studies have shown that it offers numerous health benefits, including a reduced risk of heart disease and improved cognitive health.\",\n",
    "        \"question\": \"What are the main components of the Mediterranean diet?\",\n",
    "        \"answer\": \"The Mediterranean diet primarily consists of fruits, vegetables, whole grains, and legumes.\",\n",
    "        \"stars\": \"Good\",\n",
    "        \"justification\": \"The answer is mostly relevant. It accurately lists several main components of the Mediterranean diet, such as fruits, vegetables, whole grains, and legumes. However, it misses out on mentioning lean proteins and healthy fats, which are also important aspects of this diet.\",\n",
    "        \"improvement_suggestion\": \"Include all key components of the Mediterranean diet in the answer. An improved answer would also mention lean proteins and healthy fats, in addition to the already listed components.\"\n",
    "    },\n",
    "    {\n",
    "        \"context\": \"The Queen's Royal Castle is a well-known tourist attraction in the United Kingdom. It spans over 500 acres and contains extensive gardens and parks. The castle was built in the 15th century and has been home to generations of royalty.\",\n",
    "        \"question\": \"What are the main attractions of the Queen's Royal Castle?\",\n",
    "        \"answer\": \"The main attractions of the Queen's Royal Castle are its expansive 500-acre grounds, extensive gardens, parks, and the historical castle itself, which dates back to the 15th century and has housed generations of royalty.\",\n",
    "        \"stars\": \"Very Good\",\n",
    "        \"justification\": \"The answer has perfect relevance. It comprehensively addresses all the important aspects of the question, covering the extensive grounds, gardens, parks, the historical significance of the castle, and its connection to generations of royalty, which aligns precisely with the context provided.\",\n",
    "        \"improvement_suggestion\": \"No improvement needed. The answer perfectly addresses the question and aligns with the context provided.\"\n",
    "    }\n",
    "]\n",
    "\n",
    "\n",
    "relevance_evaluation_prompt = {\n",
    "    \"system\": relevance_system_prompt,\n",
    "    \"user\": relevance_user_instructions,\n",
    "    \"examples\" : relevance_few_shot_examples\n",
    "}"
   ],
   "metadata": {
    "collapsed": false,
    "ExecuteTime": {
     "end_time": "2024-02-05T02:44:38.381931Z",
     "start_time": "2024-02-05T02:44:38.357491Z"
    }
   },
   "id": "c9e466c0fc20589d",
   "execution_count": 52
  },
  {
   "cell_type": "code",
   "outputs": [],
   "source": [
    "from evaluation_utils.eval_copilot.copilot_utils import create_message, run_chat_completions\n",
    "\n",
    "def get_simple_response(user_prompt):\n",
    "    simple_prompt = create_message(\"system\",\"You are a helpful assistant.\")\n",
    "    msgs = [simple_prompt, create_message(\"user\", user_prompt)]\n",
    "    response = run_chat_completions(msgs)\n",
    "    return response"
   ],
   "metadata": {
    "collapsed": false,
    "ExecuteTime": {
     "end_time": "2024-02-05T02:44:38.382428Z",
     "start_time": "2024-02-05T02:44:38.360665Z"
    }
   },
   "id": "6ee5663f10dd8de6",
   "execution_count": 53
  },
  {
   "cell_type": "code",
   "outputs": [],
   "source": [
    "ground_truth = \"\"\"\n",
    "Napoleonic Wars, (1799–1815) Series of wars that ranged France against shifting alliances of European powers. Originally an attempt to maintain French strength established by the French Revolutionary Wars, they became efforts by Napoleon to affirm his supremacy in the balance of European power. A victory over Austria at the Battle of Marengo (1800) left France the dominant power on the continent. Only Britain remained strong, and its victory at the Battle of Trafalgar (1805) ended Napoleon’s threat to invade England. Napoleon won major victories in the Battles of Ulm and Austerlitz (1805), Jena and Auerstedt (1806), and Friedland (1807) against an alliance of Russia, Austria, and Prussia. The resulting Treaties of Tilsit (1807) and the Treaty of Schönbrunn (1809) left most of Europe from the English Channel to the Russian border either part of the French Empire, controlled by France, or allied to it by treaty. Napoleon’s successes resulted from a strategy of moving his army rapidly, attacking quickly, and defeating each of the disconnected enemy units. His enemies’ responding strategy was to avoid engagement while withdrawing, forcing Napoleon’s supply lines to be overextended; the strategy was successfully used against him by the duke of Wellington in the Peninsular War and by Mikhail, Prince Barclay de Tolly, in Russia. In 1813 the Quadruple Alliance formed to oppose Napoleon and amassed armies that outnumbered his. Defeated at the Battle of Leipzig, he was forced to withdraw west of the Rhine River, and after the invasion of France (1814) he abdicated. He rallied a new army to return in the Hundred Days (1815), but a revived Quadruple Alliance opposed him. His final defeat at the Battle of Waterloo was caused by his inability to surprise and to prevent the two armies, led by Wellington and Gebhard von Blücher, from joining forces to defeat him. With his second abdication and exile, the era of the Napoleonic Wars ended.\n",
    "\"\"\""
   ],
   "metadata": {
    "collapsed": false,
    "ExecuteTime": {
     "end_time": "2024-02-05T02:44:38.382776Z",
     "start_time": "2024-02-05T02:44:38.364964Z"
    }
   },
   "id": "232ba4c4798484aa",
   "execution_count": 54
  },
  {
   "cell_type": "code",
   "outputs": [
    {
     "name": "stdout",
     "output_type": "stream",
     "text": [
      "The Napoleonic Wars involved several countries. They primarily involved France and its allies against a coalition of other European nations. The exact number of countries involved varied throughout the different stages of the conflict. At its height, more than 30 countries were involved in the wars.\n"
     ]
    }
   ],
   "source": [
    "prompt = \"How many countries were involved in the Napoleanic Wars?\"\n",
    "response = get_simple_response(prompt)\n",
    "print(response)"
   ],
   "metadata": {
    "collapsed": false,
    "ExecuteTime": {
     "end_time": "2024-02-05T02:44:39.713496Z",
     "start_time": "2024-02-05T02:44:38.378458Z"
    }
   },
   "id": "1769846f8015571",
   "execution_count": 55
  },
  {
   "cell_type": "code",
   "outputs": [
    {
     "name": "stdout",
     "output_type": "stream",
     "text": [
      "Full Response: Stars: Very Good\n",
      "Justification: The answer has perfect relevance. It accurately addresses the question by mentioning that the Napoleonic Wars involved several countries and provides additional context by specifying that it primarily involved France and its allies against a coalition of other European nations. It also mentions that the exact number of countries involved varied throughout the different stages of the conflict, and at its height, more than 30 countries were involved. This aligns precisely with the context provided.\n",
      "0 The answer has perfect relevance. It accurately addresses the question by mentioning that the Napoleonic Wars involved several countries and provides additional context by specifying that it primarily involved France and its allies against a coalition of other European nations. It also mentions that the exact number of countries involved varied throughout the different stages of the conflict, and at its height, more than 30 countries were involved. This aligns precisely with the context provided.\n"
     ]
    }
   ],
   "source": [
    "from evaluation_utils.eval_copilot.eval_copilot import EvaluationCopilotNew\n",
    "\n",
    "relevance_judge = EvaluationCopilotNew(relevance_evaluation_prompt)\n",
    "score, justification = relevance_judge.get_score_and_justification(ground_truth, prompt, response)\n",
    "print(score, justification)"
   ],
   "metadata": {
    "collapsed": false,
    "ExecuteTime": {
     "end_time": "2024-02-05T02:44:41.978708Z",
     "start_time": "2024-02-05T02:44:39.708386Z"
    }
   },
   "id": "2a42b284284c25b",
   "execution_count": 56
  },
  {
   "cell_type": "code",
   "outputs": [],
   "source": [
    "msft_relevance_evaluation_prompt = \"\"\"\n",
    "System:\n",
    "You are an AI assistant. You will be given the definition of an evaluation metric for assessing the quality of an answer in a question-answering task. Your job is to compute an accurate evaluation score using the provided evaluation metric.\n",
    "\n",
    "User:\n",
    "Relevance measures how well the answer addresses the main aspects of the question, based on the context. Consider whether all and only the important aspects are contained in the answer when evaluating relevance. Given the context and question, score the relevance of the answer between one to five stars using the following rating scale:\n",
    "One star: the answer completely lacks relevance\n",
    "Two stars: the answer mostly lacks relevance\n",
    "Three stars: the answer is partially relevant\n",
    "Four stars: the answer is mostly relevant\n",
    "Five stars: the answer has perfect relevance\n",
    "\n",
    "This rating value should always be an integer between 1 and 5. So the rating produced should be 1 or 2 or 3 or 4 or 5.\n",
    "\n",
    "context: Marie Curie was a Polish-born physicist and chemist who pioneered research on radioactivity and was the first woman to win a Nobel Prize.\n",
    "question: What field did Marie Curie excel in?\n",
    "answer: Marie Curie was a renowned painter who focused mainly on impressionist styles and techniques.\n",
    "stars: 1\n",
    "\n",
    "context: The Beatles were an English rock band formed in Liverpool in 1960, and they are widely regarded as the most influential music band in history.\n",
    "question: Where were The Beatles formed?\n",
    "answer: The band The Beatles began their journey in London, England, and they changed the history of music.\n",
    "stars: 2\n",
    "\n",
    "context: The recent Mars rover, Perseverance, was launched in 2020 with the main goal of searching for signs of ancient life on Mars. The rover also carries an experiment called MOXIE, which aims to generate oxygen from the Martian atmosphere.\n",
    "question: What are the main goals of Perseverance Mars rover mission?\n",
    "answer: The Perseverance Mars rover mission focuses on searching for signs of ancient life on Mars.\n",
    "stars: 3\n",
    "\n",
    "context: The Mediterranean diet is a commonly recommended dietary plan that emphasizes fruits, vegetables, whole grains, legumes, lean proteins, and healthy fats. Studies have shown that it offers numerous health benefits, including a reduced risk of heart disease and improved cognitive health.\n",
    "question: What are the main components of the Mediterranean diet?\n",
    "answer: The Mediterranean diet primarily consists of fruits, vegetables, whole grains, and legumes.\n",
    "stars: 4\n",
    "\n",
    "context: The Queen's Royal Castle is a well-known tourist attraction in the United Kingdom. It spans over 500 acres and contains extensive gardens and parks. The castle was built in the 15th century and has been home to generations of royalty.\n",
    "question: What are the main attractions of the Queen's Royal Castle?\n",
    "answer: The main attractions of the Queen's Royal Castle are its expansive 500-acre grounds, extensive gardens, parks, and the historical castle itself, which dates back to the 15th century and has housed generations of royalty.\n",
    "stars: 5\n",
    "\n",
    "context: {context}\n",
    "question: {question}\n",
    "answer: {answer}\n",
    "stars:\n",
    "\"\"\""
   ],
   "metadata": {
    "collapsed": false,
    "ExecuteTime": {
     "end_time": "2024-02-05T02:44:41.980121Z",
     "start_time": "2024-02-05T02:44:41.975617Z"
    }
   },
   "id": "ca5e11a44d8a09be",
   "execution_count": 57
  },
  {
   "cell_type": "code",
   "outputs": [
    {
     "name": "stdout",
     "output_type": "stream",
     "text": [
      "4\n"
     ]
    }
   ],
   "source": [
    "msft_eval_msg = create_message(\"system\", msft_relevance_evaluation_prompt.format(context=ground_truth, question=prompt, answer=response))\n",
    "msft_score = run_chat_completions([msft_eval_msg])\n",
    "print(msft_score)"
   ],
   "metadata": {
    "collapsed": false,
    "ExecuteTime": {
     "end_time": "2024-02-05T02:44:42.481462Z",
     "start_time": "2024-02-05T02:44:41.984605Z"
    }
   },
   "id": "681e636298efb164",
   "execution_count": 58
  },
  {
   "cell_type": "code",
   "outputs": [
    {
     "data": {
      "text/plain": "{'role': 'system',\n 'content': \"\\nSystem:\\nYou are an AI assistant. You will be given the definition of an evaluation metric for assessing the quality of an answer in a question-answering task. Your job is to compute an accurate evaluation score using the provided evaluation metric.\\n\\nUser:\\nRelevance measures how well the answer addresses the main aspects of the question, based on the context. Consider whether all and only the important aspects are contained in the answer when evaluating relevance. Given the context and question, score the relevance of the answer between one to five stars using the following rating scale:\\nOne star: the answer completely lacks relevance\\nTwo stars: the answer mostly lacks relevance\\nThree stars: the answer is partially relevant\\nFour stars: the answer is mostly relevant\\nFive stars: the answer has perfect relevance\\n\\nThis rating value should always be an integer between 1 and 5. So the rating produced should be 1 or 2 or 3 or 4 or 5.\\n\\ncontext: Marie Curie was a Polish-born physicist and chemist who pioneered research on radioactivity and was the first woman to win a Nobel Prize.\\nquestion: What field did Marie Curie excel in?\\nanswer: Marie Curie was a renowned painter who focused mainly on impressionist styles and techniques.\\nstars: 1\\n\\ncontext: The Beatles were an English rock band formed in Liverpool in 1960, and they are widely regarded as the most influential music band in history.\\nquestion: Where were The Beatles formed?\\nanswer: The band The Beatles began their journey in London, England, and they changed the history of music.\\nstars: 2\\n\\ncontext: The recent Mars rover, Perseverance, was launched in 2020 with the main goal of searching for signs of ancient life on Mars. The rover also carries an experiment called MOXIE, which aims to generate oxygen from the Martian atmosphere.\\nquestion: What are the main goals of Perseverance Mars rover mission?\\nanswer: The Perseverance Mars rover mission focuses on searching for signs of ancient life on Mars.\\nstars: 3\\n\\ncontext: The Mediterranean diet is a commonly recommended dietary plan that emphasizes fruits, vegetables, whole grains, legumes, lean proteins, and healthy fats. Studies have shown that it offers numerous health benefits, including a reduced risk of heart disease and improved cognitive health.\\nquestion: What are the main components of the Mediterranean diet?\\nanswer: The Mediterranean diet primarily consists of fruits, vegetables, whole grains, and legumes.\\nstars: 4\\n\\ncontext: The Queen's Royal Castle is a well-known tourist attraction in the United Kingdom. It spans over 500 acres and contains extensive gardens and parks. The castle was built in the 15th century and has been home to generations of royalty.\\nquestion: What are the main attractions of the Queen's Royal Castle?\\nanswer: The main attractions of the Queen's Royal Castle are its expansive 500-acre grounds, extensive gardens, parks, and the historical castle itself, which dates back to the 15th century and has housed generations of royalty.\\nstars: 5\\n\\ncontext: \\nNapoleonic Wars, (1799–1815) Series of wars that ranged France against shifting alliances of European powers. Originally an attempt to maintain French strength established by the French Revolutionary Wars, they became efforts by Napoleon to affirm his supremacy in the balance of European power. A victory over Austria at the Battle of Marengo (1800) left France the dominant power on the continent. Only Britain remained strong, and its victory at the Battle of Trafalgar (1805) ended Napoleon’s threat to invade England. Napoleon won major victories in the Battles of Ulm and Austerlitz (1805), Jena and Auerstedt (1806), and Friedland (1807) against an alliance of Russia, Austria, and Prussia. The resulting Treaties of Tilsit (1807) and the Treaty of Schönbrunn (1809) left most of Europe from the English Channel to the Russian border either part of the French Empire, controlled by France, or allied to it by treaty. Napoleon’s successes resulted from a strategy of moving his army rapidly, attacking quickly, and defeating each of the disconnected enemy units. His enemies’ responding strategy was to avoid engagement while withdrawing, forcing Napoleon’s supply lines to be overextended; the strategy was successfully used against him by the duke of Wellington in the Peninsular War and by Mikhail, Prince Barclay de Tolly, in Russia. In 1813 the Quadruple Alliance formed to oppose Napoleon and amassed armies that outnumbered his. Defeated at the Battle of Leipzig, he was forced to withdraw west of the Rhine River, and after the invasion of France (1814) he abdicated. He rallied a new army to return in the Hundred Days (1815), but a revived Quadruple Alliance opposed him. His final defeat at the Battle of Waterloo was caused by his inability to surprise and to prevent the two armies, led by Wellington and Gebhard von Blücher, from joining forces to defeat him. With his second abdication and exile, the era of the Napoleonic Wars ended.\\n\\nquestion: How many countries were involved in the Napoleanic Wars?\\nanswer: The Napoleonic Wars involved several countries. They primarily involved France and its allies against a coalition of other European nations. The exact number of countries involved varied throughout the different stages of the conflict. At its height, more than 30 countries were involved in the wars.\\nstars:\\n\"}"
     },
     "execution_count": 59,
     "metadata": {},
     "output_type": "execute_result"
    }
   ],
   "source": [
    "msft_eval_msg"
   ],
   "metadata": {
    "collapsed": false,
    "ExecuteTime": {
     "end_time": "2024-02-05T02:44:42.482196Z",
     "start_time": "2024-02-05T02:44:42.471225Z"
    }
   },
   "id": "d162df938734edc3",
   "execution_count": 59
  },
  {
   "cell_type": "code",
   "outputs": [
    {
     "name": "stdout",
     "output_type": "stream",
     "text": [
      "Score: 5\n",
      "Justification: The answer has perfect relevance. It accurately identifies the major European powers involved in the Napoleonic Wars, including France, Great Britain, Russia, Prussia, Austria, and Spain. Additionally, it provides an estimate of the number of countries involved, stating that around 30 countries were involved in the conflicts. This aligns precisely with the information provided in the context.\n"
     ]
    }
   ],
   "source": [
    "import re\n",
    "\n",
    "def parse_score_and_justification_words(full_response):\n",
    "    score_map = {\n",
    "        \"Very Bad\": \"1\",\n",
    "        \"Bad\": \"2\",\n",
    "        \"Average\": \"3\",\n",
    "        \"Good\": \"4\",\n",
    "        \"Very Good\": \"5\",\n",
    "    }\n",
    "\n",
    "    # Adjusting regex to be more flexible with whitespace and line breaks\n",
    "    score_match = re.search(\n",
    "        r\"Stars:\\s*(Very Bad|Bad|Average|Good|Very Good)\\s*\", full_response, re.DOTALL\n",
    "    )\n",
    "    justification_match = re.search(r\"Justification:\\s*(.+)\", full_response, re.DOTALL)\n",
    "\n",
    "    score = score_map[score_match.group(1).strip()] if score_match else \"0\"\n",
    "    justification = (\n",
    "        justification_match.group(1).strip()\n",
    "        if justification_match\n",
    "        else \"No justification provided.\"\n",
    "    )\n",
    "    return score, justification\n",
    "\n",
    "# Testing with your provided full_response\n",
    "full_response = \"\"\"\n",
    "Stars:Very Good\n",
    "Justification: The answer has perfect relevance. It accurately identifies the major European powers involved in the Napoleonic Wars, including France, Great Britain, Russia, Prussia, Austria, and Spain. Additionally, it provides an estimate of the number of countries involved, stating that around 30 countries were involved in the conflicts. This aligns precisely with the information provided in the context.\n",
    "\"\"\"\n",
    "\n",
    "score, justification = parse_score_and_justification_words(full_response)\n",
    "print(\"Score:\", score)\n",
    "print(\"Justification:\", justification)\n"
   ],
   "metadata": {
    "collapsed": false,
    "ExecuteTime": {
     "end_time": "2024-02-05T02:44:42.490209Z",
     "start_time": "2024-02-05T02:44:42.483864Z"
    }
   },
   "id": "30c5cbb29c5eee53",
   "execution_count": 60
  },
  {
   "cell_type": "code",
   "outputs": [
    {
     "name": "stdout",
     "output_type": "stream",
     "text": [
      "Explanation: The assistant's response provides a clear and accurate overview of the participation in the Napoleonic Wars. It correctly identifies that the number of countries involved can vary depending on the definition of participation. The response also successfully highlights the involvement of major powers such as France, Great Britain, Russia, Austria, Prussia, and Spain, and mentions the participation of other European states and coalitions. This information is relevant and provides a good understanding of the scale and international nature of the Napoleonic Wars. However, the response could have been improved by providing a more specific number or range of countries involved, even if this number is an estimate or varies among historians.\n",
      "Improvement Suggestions: The response could be improved by providing a more precise estimate of the number of countries involved, acknowledging that this number can vary among historical sources. Additionally, including a brief mention of some lesser-known countries or states that participated could add depth to the answer.\n",
      "Rating: 4\n"
     ]
    }
   ],
   "source": [
    "def parse_response(response_text):\n",
    "    # Split the response into parts\n",
    "    parts = response_text.split(\"\\n\\n\")\n",
    "\n",
    "    # Extract the explanation\n",
    "    explanation = parts[0].split(\"Explanation:\\n\")[1]\n",
    "\n",
    "    # Extract the improvement suggestions\n",
    "    improvement_suggestions = parts[1].split(\"Improvement Suggestions:\\n\")[1]\n",
    "\n",
    "    # Extract the rating\n",
    "    rating = parts[2].split(\"Rating: \")[1].strip(\"[]\")\n",
    "\n",
    "    return rating, explanation, improvement_suggestions\n",
    "\n",
    "# Example usage\n",
    "response_text = \"\"\"Explanation:\n",
    "The assistant's response provides a clear and accurate overview of the participation in the Napoleonic Wars. It correctly identifies that the number of countries involved can vary depending on the definition of participation. The response also successfully highlights the involvement of major powers such as France, Great Britain, Russia, Austria, Prussia, and Spain, and mentions the participation of other European states and coalitions. This information is relevant and provides a good understanding of the scale and international nature of the Napoleonic Wars. However, the response could have been improved by providing a more specific number or range of countries involved, even if this number is an estimate or varies among historians.\n",
    "\n",
    "Improvement Suggestions:\n",
    "The response could be improved by providing a more precise estimate of the number of countries involved, acknowledging that this number can vary among historical sources. Additionally, including a brief mention of some lesser-known countries or states that participated could add depth to the answer.\n",
    "\n",
    "Rating: [[4]]\"\"\"\n",
    "\n",
    "explanation, improvement_suggestions, rating = parse_response(response_text)\n",
    "print(\"Explanation:\", explanation)\n",
    "print(\"Improvement Suggestions:\", improvement_suggestions)\n",
    "print(\"Rating:\", rating)\n"
   ],
   "metadata": {
    "collapsed": false,
    "ExecuteTime": {
     "end_time": "2024-02-05T06:57:33.076202Z",
     "start_time": "2024-02-05T06:57:33.072369Z"
    }
   },
   "id": "74cdaf9d70bf16c5",
   "execution_count": 61
  }
 ],
 "metadata": {
  "kernelspec": {
   "display_name": "Python 3",
   "language": "python",
   "name": "python3"
  },
  "language_info": {
   "codemirror_mode": {
    "name": "ipython",
    "version": 2
   },
   "file_extension": ".py",
   "mimetype": "text/x-python",
   "name": "python",
   "nbconvert_exporter": "python",
   "pygments_lexer": "ipython2",
   "version": "2.7.6"
  }
 },
 "nbformat": 4,
 "nbformat_minor": 5
}
